{
 "cells": [
  {
   "cell_type": "code",
   "execution_count": 1,
   "id": "93ef6471",
   "metadata": {},
   "outputs": [],
   "source": [
    "import pandas as pd\n",
    "import numpy as np\n",
    "import warnings as wn\n",
    "import random as rdm\n",
    "import polars as pl\n",
    "from math import ceil\n",
    "\n",
    "wn.filterwarnings(\"ignore\")"
   ]
  },
  {
   "cell_type": "code",
   "execution_count": 2,
   "id": "bb66f4c9",
   "metadata": {},
   "outputs": [],
   "source": [
    "Raw1 = pd.read_csv('Unclean.csv', header=5)"
   ]
  },
  {
   "cell_type": "code",
   "execution_count": 3,
   "id": "eb501964",
   "metadata": {},
   "outputs": [],
   "source": [
    "Raw = Raw1[((Raw1['status'] == 1)|(Raw1['status'] == 7)) & (Raw1['consent_1'] == 1)]\n",
    "\n",
    "districts1 = ['Amuru','Kiryandongo', 'Kitagwenda','Nwoya', 'Rakai']          \n",
    "# districts2 = ['Bunyangabu', 'Kibaale','Mitooma', 'Rubanda', 'Rubirizi', 'Rukiga', 'Rukungiri']\n",
    "\n",
    "Raw = Raw[Raw['pre_district'].isin(districts1)]\n",
    "Raw = Raw.reset_index(drop=True)\n",
    "columns = Raw.columns.to_list()"
   ]
  },
  {
   "cell_type": "code",
   "execution_count": 8,
   "id": "c6139636",
   "metadata": {},
   "outputs": [],
   "source": [
    "# clean_prices = pd.read_csv('clean prices.csv')"
   ]
  },
  {
   "cell_type": "code",
   "execution_count": 9,
   "id": "4d889b02",
   "metadata": {},
   "outputs": [],
   "source": [
    "seasons = [1, 2]\n",
    "Prices = {}\n",
    "for i in seasons:\n",
    "    #Seasonal crops price ranges\n",
    "    Prices[f'sn_{i}_beans_Market_Price_fresh'] = np.arange(700, 2001).tolist()\n",
    "    Prices[f'sn_{i}_beans_Market_Price_dry'] = np.arange(1200, 3001).tolist()\n",
    "    Prices[f'sn_{i}_soya_beans_Market_Price'] = np.arange(1000, 3501).tolist()\n",
    "    Prices[f'sn_{i}_peas_Market_Price_fresh'] = np.arange(1000, 2501).tolist()\n",
    "    Prices[f'sn_{i}_peas_Market_Price_dry'] = np.arange(1000, 3501).tolist()\n",
    "    Prices[f'sn_{i}_gnuts_Market_Price'] = np.arange(2000, 6501).tolist()\n",
    "    Prices[f'sn_{i}_maize_Market_Price_fresh'] = np.arange(500, 1501).tolist()\n",
    "    Prices[f'sn_{i}_maize_Market_Price_dry'] = np.arange(700, 2501).tolist()\n",
    "    Prices[f'sn_{i}_millet_Market_Price'] = np.arange(1000, 3501).tolist()\n",
    "    Prices[f'sn_{i}_sorghum_Market_Price'] = np.arange(1000, 3501).tolist()\n",
    "    Prices[f'sn_{i}_barley_Market_Price'] = np.arange(1000, 2501).tolist()\n",
    "    Prices[f'sn_{i}_rice_Market_Price'] = np.arange(1500, 5001).tolist()\n",
    "    Prices[f'sn_{i}_garlic_Market_Price'] = np.arange(2000, 5001).tolist()\n",
    "    Prices[f'sn_{i}_ginger_Market_Price'] = np.arange(2000, 5001).tolist()\n",
    "    Prices[f'sn_{i}_irish_potatoes_Market_Price'] = np.arange(80000, 180001).tolist()\n",
    "    Prices[f'sn_{i}_sweetpotatoes_Market_Price'] = np.arange(15000, 50001).tolist()\n",
    "    Prices[f'sn_{i}_cassava_Market_Price_fresh'] = np.arange(15000, 60001).tolist()\n",
    "    Prices[f'sn_{i}_cassava_Market_Price_dry'] = np.arange(20000, 67001).tolist()\n",
    "    Prices[f'sn_{i}_yams_Market_Price'] = np.arange(10000, 50001).tolist()\n",
    "    Prices[f'sn_{i}_other_Market_Price'] = np.arange(1000, 100001).tolist()\n",
    "    Prices[f'sn_{i}_Pumpkins_Market_Price'] = np.arange(300, 2001).tolist()\n",
    "    Prices[f'sn_{i}_Carrots_Market_Price'] = np.arange(30000, 85000).tolist()\n",
    "    Prices[f'sn_{i}_onions_Market_Price'] = np.arange(30000, 100001).tolist()\n",
    "    Prices[f'sn_{i}_green_pepper_Market_Price'] = np.arange(5000, 13001).tolist()\n",
    "    Prices[f'sn_{i}_hot_pepper_Market_Price'] = np.arange(5000, 13001).tolist()\n",
    "    Prices[f'sn_{i}_cabbage_Market_Price'] = np.arange(300, 1300).tolist()\n",
    "    Prices[f'sn_{i}_tomato_Market_Price'] = np.arange(10000, 35001).tolist()\n",
    "    Prices[f'sn_{i}_watermelon_Market_Price'] = np.arange(500, 3001).tolist()\n",
    "    Prices[f'sn_{i}_spinach_Market_Price'] = np.arange(200, 2001).tolist()\n",
    "    Prices[f'sn_{i}_cauliflower_Market_Price'] = np.arange(200, 2001).tolist()\n",
    "    Prices[f'sn_{i}_sukuma_wiki_Market_Price'] = np.arange(200, 2001).tolist()\n",
    "    Prices[f'sn_{i}_beetroot_Market_Price'] = np.arange(4000,18001).tolist()\n",
    "    Prices[f'sn_{i}_blacknightshade_Market_Price'] = np.arange(300, 2001).tolist()\n",
    "    Prices[f'sn_{i}_white_eggplant_Market_Price'] = np.arange(4000,18001).tolist()\n",
    "    Prices[f'sn_{i}_green_eggplant_Market_Price'] = np.arange(4000,18001).tolist()\n",
    "    Prices[f'sn_{i}_purple_eggplant_Market_Price'] = np.arange(4000,18001).tolist()\n",
    "    Prices[f'sn_{i}_dodo_Market_Price'] = np.arange(300, 1001).tolist()\n",
    "    Prices[f'sn_{i}_Chayote_Market_Price'] = np.arange(500, 3001).tolist()\n",
    "    Prices[f'sn_{i}_other_vegetable1_Market_Price'] = np.arange(300, 40001).tolist()\n",
    "    Prices[f'sn_{i}_other_vegetable2_Market_Price'] = np.arange(300, 40001).tolist()\n",
    "    Prices[f'sn_{i}_other_vegetable3_Market_Price'] = np.arange(300, 40001).tolist()\n",
    "    Prices[f'sn_{i}_simsim_Market_Price'] = np.arange(1000,2501).tolist()\n",
    "    Prices[f'sn_{i}_Sunflower_Market_Price'] = np.arange(800,2501).tolist()\n",
    "    Prices[f'sn_{i}_Greengram_Market_Price'] = np.arange(1000,3001).tolist()\n",
    "    Prices[f'sn_{i}_PigeonPeas_Market_Price'] = np.arange(800,2001).tolist()\n",
    "    Prices[f'sn_{i}_Spiderherb_Market_Price'] = np.arange(200,1001).tolist()\n",
    "    Prices[f'sn_{i}_Nakati_Market_Price'] = np.arange(200,1001).tolist()\n",
    "    Prices[f'sn_{i}_Okra_Market_Price'] = np.arange(1000,6001).tolist()\n",
    "    Prices[f'sn_{i}_Hibiscus_Market_Price'] = np.arange(200,1001).tolist()\n"
   ]
  },
  {
   "cell_type": "code",
   "execution_count": 10,
   "id": "df0e6c95",
   "metadata": {},
   "outputs": [],
   "source": [
    "Prices['food_banana_price'] = np.arange(4000, 15001).tolist()\n",
    "Prices['ripe_banana_price'] = np.arange(3000, 12001).tolist()\n",
    "Prices['alcohol_banana_price'] = np.arange(3000, 10001).tolist()\n",
    "Prices['coffee_price_fresh_nasaland'] = np.arange(1000, 3001).tolist()\n",
    "Prices['coffee_price_dried_nasaland'] = np.arange(2000, 5001).tolist()\n",
    "Prices['coffee_price_process_nasaland'] = np.arange(3000, 10001).tolist()\n",
    "Prices['coffee_price_valueaddcost_nasaland'] = np.arange(7000, 20001).tolist()\n",
    "Prices['coffee_price_fresh_robusta'] = np.arange(1000, 3001).tolist()\n",
    "Prices['coffee_price_dried_robusta'] = np.arange(2000, 5001).tolist()\n",
    "Prices['coffee_price_process_robusta'] = np.arange(3000, 10001).tolist()\n",
    "Prices['coffee_price_valueaddcost_robusta'] = np.arange(7000, 20001).tolist()\n",
    "Prices['vanilla_price_fresh'] = np.arange(5000, 12001).tolist()\n",
    "Prices['vanilla_price_dry'] = np.arange(10000, 20001).tolist()\n",
    "Prices['vanilla_price_process'] = np.arange(20000, 40001).tolist()\n",
    "Prices['tea_price'] = np.arange(100, 601).tolist()\n",
    "Prices['jackfruit_price_fresh'] = np.arange(500, 3001).tolist()\n",
    "Prices['mangoes_price_fresh'] = np.arange(4000, 17001).tolist()\n",
    "Prices['oranges_price_fresh'] = np.arange(4000, 17001).tolist()\n",
    "Prices['passion_fruits_price_fresh'] = np.arange(5000, 40001).tolist()\n",
    "Prices['tomato_fruits_price_fresh'] = np.arange(5000, 30001).tolist()\n",
    "Prices['apple_price_fresh'] = np.arange(10000, 40001).tolist()\n",
    "Prices['guava_price_fresh'] = np.arange(3000, 13001).tolist()\n",
    "Prices['avocado_price_fresh'] = np.arange(100, 1001).tolist()\n",
    "Prices['eucalyptus_price_fresh'] = np.arange(3000, 20001).tolist()\n",
    "Prices['pine_price_fresh'] = np.arange(5000, 17001).tolist()\n",
    "Prices['mahogany_price_fresh'] = np.arange(5000, 25001).tolist()\n",
    "Prices['cyprus_price_fresh'] = np.arange(3000, 8001).tolist()\n",
    "Prices['oak_price_fresh'] = np.arange(5000, 20001).tolist()\n",
    "Prices['musizi_price_fresh'] = np.arange(3000, 20001).tolist()\n",
    "Prices['acacia_price_fresh'] = np.arange(3000, 20001).tolist()\n",
    "Prices['hogthorn_price_fresh'] = np.arange(3000, 20001).tolist()\n",
    "Prices['neem_price_fresh'] = np.arange(3000, 20001).tolist()\n",
    "Prices['caliandra_price_fresh'] = np.arange(3000, 14001).tolist()\n",
    "Prices['graveria_price_fresh'] = np.arange(3000, 20001).tolist()\n",
    "Prices['bamboo_price_fresh'] = np.arange(3000, 8001).tolist()\n",
    "Prices['cocoa_price_fresh'] = np.arange(10000, 30001).tolist()\n",
    "Prices['tabbaco_Market_Price'] = np.arange(300, 1001).tolist()\n",
    "Prices['Pineapple_price_fresh'] = np.arange(400, 1201).tolist()\n",
    "Prices['other_perennial_price_fresh'] = np.arange(300, 25001).tolist()\n",
    "Prices['Mandarin_price_fresh'] = np.arange(4000, 15001).tolist()\n",
    "Prices['teaktree_price_fresh'] = np.arange(2000, 30001).tolist()\n",
    "Prices['cotton_price_fresh'] = np.arange(1000, 2501).tolist()\n",
    "Prices['sheatree_price_fresh'] = np.arange(2000, 10001).tolist()\n",
    "Prices['ediblebamboo_Market_Price'] = np.arange(1000, 10001).tolist()\n",
    "Prices['pawpaw_price_fresh'] = np.arange(200, 1201).tolist()\n",
    "Prices['Cinnamon_price_fresh'] = np.arange(1000, 10001).tolist()\n",
    "Prices['Macadamia_price_fresh'] = np.arange(1000, 10001).tolist()\n",
    "\n",
    "# Livestock price ranges\n",
    "Prices['Goats_Price_for_mature_Livestock'] = np.arange(140000, 250001).tolist()\n",
    "Prices['Goats_Price_for_young_Livestock'] = np.arange(50000, 120001).tolist()\n",
    "Prices['Sheep_Price_for_mature_Livestock'] = np.arange(120000, 200001).tolist()\n",
    "Prices['Sheep_Price_for_young_Livestock'] = np.arange(40000, 100001).tolist()\n",
    "Prices['Chicken_Price_for_mature_Livestock'] = np.arange(10000, 30001).tolist()\n",
    "Prices['Chicken_Price_for_young_Livestock'] = np.arange(5000, 14001).tolist()\n",
    "Prices['Pigs_Price_for_mature_Livestock'] = np.arange(140000, 300001).tolist()\n",
    "Prices['Pigs_Price_for_young_Livestock'] = np.arange(10000, 120001).tolist()\n",
    "Prices['Rabbits_Price_for_mature_Livestock'] = np.arange(10000, 45001).tolist()\n",
    "Prices['Rabbits_Price_for_young_Livestock'] = np.arange(5000, 15001).tolist()\n",
    "Prices['Cows_Price_for_mature_Livestock'] = np.arange(500000, 1500001).tolist()\n",
    "Prices['Cows_Price_for_young_Livestock'] = np.arange(250000, 650001).tolist()\n",
    "Prices['Turkey_Price_for_mature_Livestock'] = np.arange(20000, 50001).tolist()\n",
    "Prices['Turkey_Price_for_young_Livestock'] = np.arange(5000, 15001).tolist()\n",
    "Prices['Bees_Price_for_mature_Livestock'] = np.arange(20000, 65001).tolist()\n",
    "Prices['Bees_Price_for_young_Livestock'] = np.arange(5000, 25001).tolist()\n",
    "Prices['Guinea_Pigs_Price_for_mature_Livestock'] = np.arange(5000, 40001).tolist()\n",
    "Prices['Guinea_Pigs_Price_for_young_Livestock'] = np.arange(3000, 15001).tolist()\n",
    "Prices['Ducks_Price_for_mature_Livestock'] = np.arange(8000, 30001).tolist()\n",
    "Prices['Ducks_Price_for_young_Livestock'] = np.arange(3000, 10001).tolist()\n",
    "Prices['Quails_Price_for_mature_Livestock'] = np.arange(4000, 15001).tolist()\n",
    "Prices['Quails_Price_for_young_Livestock'] = np.arange(2000, 10001).tolist()\n",
    "Prices['Other_specified_Livestock_list_Price_for_mature_Livestock'] = np.arange(15000, 200001).tolist()\n",
    "Prices['Other_specified_Price_for_mature_Livestock'] = np.arange(3000, 50001).tolist()\n",
    "Prices['Other_specified_Livestock_list_Price_for_young_Livestock'] = np.arange(3000, 50001).tolist()\n",
    "\n",
    "# Livestock price ranges\n",
    "Prices['Milk_market_ppu'] = np.arange(500, 2001).tolist()\n",
    "Prices['Skins_market_ppu'] = np.arange(3000, 15001).tolist()\n",
    "Prices['Horns_market_ppu'] = np.arange(3000, 7001).tolist()\n",
    "Prices['Eggs_market_ppu'] = np.arange(300, 1201).tolist()\n",
    "Prices['Honey_market_ppu'] = np.arange(3000, 20001).tolist()\n",
    "Prices['Wax_market_ppu'] = np.arange(3000, 20001).tolist()\n",
    "Prices['Blood_Meal_market_ppu'] = np.arange(3000, 20001).tolist()\n",
    "Prices['Cow_Dung_market_ppu'] = np.arange(4000, 15001).tolist()\n",
    "Prices['Name_of_other_specified_Dairy_Product_market_ppu'] = np.arange(3000, 20001).tolist()"
   ]
  },
  {
   "cell_type": "code",
   "execution_count": 11,
   "id": "da76da04",
   "metadata": {},
   "outputs": [],
   "source": [
    "my_price_columns = [\n",
    "    'sn_1_beans_Market_Price_fresh', 'sn_1_beans_Market_Price_dry', 'sn_1_soya_beans_Market_Price',\n",
    "    'sn_1_peas_Market_Price_fresh', 'sn_1_peas_Market_Price_dry', 'sn_1_gnuts_Market_Price',\n",
    "    'sn_1_maize_Market_Price_fresh', 'sn_1_maize_Market_Price_dry', 'sn_1_millet_Market_Price',\n",
    "    'sn_1_sorghum_Market_Price', 'sn_1_barley_Market_Price', 'sn_1_rice_Market_Price',\n",
    "    'sn_1_garlic_Market_Price', 'sn_1_ginger_Market_Price', 'sn_1_irish_potatoes_Market_Price',\n",
    "    'sn_1_sweetpotatoes_Market_Price', 'sn_1_cassava_Market_Price_fresh', 'sn_1_cassava_Market_Price_dry',\n",
    "    'sn_1_yams_Market_Price', 'sn_1_other_Market_Price', 'sn_1_Pumpkins_Market_Price',\n",
    "    'sn_1_Carrots_Market_Price', 'sn_1_onions_Market_Price', 'sn_1_green_pepper_Market_Price',\n",
    "    'sn_1_hot_pepper_Market_Price', 'sn_1_cabbage_Market_Price', 'sn_1_tomato_Market_Price',\n",
    "    'sn_1_watermelon_Market_Price', 'sn_1_spinach_Market_Price', 'sn_1_cauliflower_Market_Price',\n",
    "    'sn_1_sukuma_wiki_Market_Price', 'sn_1_beetroot_Market_Price', 'sn_1_blacknightshade_Market_Price',\n",
    "    'sn_1_white_eggplant_Market_Price', 'sn_1_green_eggplant_Market_Price', 'sn_1_purple_eggplant_Market_Price',\n",
    "    'sn_1_dodo_Market_Price', 'sn_1_Chayote_Market_Price', 'sn_1_other_vegetable1_Market_Price',\n",
    "    'sn_1_other_vegetable2_Market_Price', 'sn_1_other_vegetable3_Market_Price',\n",
    "    'sn_2_beans_Market_Price_fresh', 'sn_2_beans_Market_Price_dry', 'sn_2_soya_beans_Market_Price',\n",
    "    'sn_2_peas_Market_Price_fresh', 'sn_2_peas_Market_Price_dry', 'sn_2_gnuts_Market_Price',\n",
    "    'sn_2_maize_Market_Price_fresh', 'sn_2_maize_Market_Price_dry', 'sn_2_millet_Market_Price',\n",
    "    'sn_2_sorghum_Market_Price', 'sn_2_barley_Market_Price', 'sn_2_rice_Market_Price',\n",
    "    'sn_2_garlic_Market_Price', 'sn_2_ginger_Market_Price', 'sn_2_irish_potatoes_Market_Price',\n",
    "    'sn_2_sweetpotatoes_Market_Price', 'sn_2_cassava_Market_Price_fresh', 'sn_2_cassava_Market_Price_dry',\n",
    "    'sn_2_yams_Market_Price', 'sn_2_other_Market_Price', 'sn_2_Pumpkins_Market_Price',\n",
    "    'sn_2_Carrots_Market_Price', 'sn_2_onions_Market_Price', 'sn_2_green_pepper_Market_Price',\n",
    "    'sn_2_hot_pepper_Market_Price', 'sn_2_cabbage_Market_Price', 'sn_2_tomato_Market_Price',\n",
    "    'sn_2_watermelon_Market_Price', 'sn_2_spinach_Market_Price', 'sn_2_cauliflower_Market_Price',\n",
    "    'sn_2_sukuma_wiki_Market_Price', 'sn_2_beetroot_Market_Price', 'sn_2_blacknightshade_Market_Price',\n",
    "    'sn_2_white_eggplant_Market_Price', 'sn_2_green_eggplant_Market_Price', 'sn_2_purple_eggplant_Market_Price',\n",
    "    'sn_2_dodo_Market_Price', 'sn_2_Chayote_Market_Price', 'sn_2_other_vegetable1_Market_Price',\n",
    "    'sn_2_other_vegetable2_Market_Price', 'sn_2_other_vegetable3_Market_Price',\n",
    "    'sn_2_simsim_Market_Price', 'sn_2_Sunflower_Market_Price', 'sn_2_PigeonPeas_Market_Price',\n",
    "    'sn_2_Greengram_Market_Price', 'sn_2_Nakati_Market_Price', 'sn_2_Spiderherb_Market_Price',\n",
    "    'sn_2_Hibiscus_Market_Price', 'sn_2_Okra_Market_Price', 'sn_1_simsim_Market_Price',\n",
    "    'sn_1_Sunflower_Market_Price', 'sn_1_PigeonPeas_Market_Price', 'sn_1_Greengram_Market_Price',\n",
    "    'sn_1_Nakati_Market_Price', 'sn_1_Spiderherb_Market_Price', 'sn_1_Hibiscus_Market_Price',\n",
    "    'sn_1_Okra_Market_Price', 'Mandarin_price_fresh', 'teaktree_price_fresh',\n",
    "    'cotton_price_fresh', 'sheatree_price_fresh', 'diblebamboo_Market_Price',\n",
    "    'pawpaw_price_fresh', 'Cinnamon_price_fresh', 'Macadamia_price_fresh',\n",
    "    'food_banana_price', 'ripe_banana_price', 'alcohol_banana_price', 'coffee_price_fresh_nasaland',\n",
    "    'coffee_price_dried_nasaland', 'coffee_price_process_nasaland', 'coffee_price_valueaddcost_nasaland',\n",
    "    'coffee_price_fresh_robusta', 'coffee_price_dried_robusta', 'coffee_price_process_robusta',\n",
    "    'coffee_price_valueaddcost_robusta', 'vanilla_price_fresh', 'vanilla_price_dry', 'vanilla_price_process',\n",
    "    'tea_price', 'jackfruit_price_fresh', 'mangoes_price_fresh', 'oranges_price_fresh',\n",
    "    'passion_fruits_price_fresh', 'tomato_fruits_price_fresh', 'apple_price_fresh', 'guava_price_fresh',\n",
    "    'avocado_price_fresh', 'eucalyptus_price_fresh', 'pine_price_fresh', 'mahogany_price_fresh',\n",
    "    'cyprus_price_fresh', 'oak_price_fresh', 'musizi_price_fresh', 'acacia_price_fresh', 'hogthorn_price_fresh',\n",
    "    'neem_price_fresh', 'caliandra_price_fresh', 'graveria_price_fresh', 'bamboo_price_fresh', 'cocoa_price_fresh',\n",
    "    'tabbaco_Market_Price', 'Pineapple_price_fresh', 'other_perennial_price_fresh',\n",
    "    'Goats_Price_for_mature_Livestock', 'Goats_Price_for_young_Livestock', 'Sheep_Price_for_mature_Livestock',\n",
    "    'Sheep_Price_for_young_Livestock', 'Chicken_Price_for_mature_Livestock', 'Chicken_Price_for_young_Livestock',\n",
    "    'Pigs_Price_for_mature_Livestock', 'Pigs_Price_for_young_Livestock', 'Rabbits_Price_for_mature_Livestock',\n",
    "    'Rabbits_Price_for_young_Livestock', 'Cows_Price_for_mature_Livestock', 'Cows_Price_for_young_Livestock',\n",
    "    'Turkey_Price_for_mature_Livestock', 'Turkey_Price_for_young_Livestock', 'Bees_Price_for_mature_Livestock',\n",
    "    'Bees_Price_for_young_Livestock', 'Guinea_Pigs_Price_for_mature_Livestock', 'Guinea_Pigs_Price_for_young_Livestock',\n",
    "    'Ducks_Price_for_mature_Livestock', 'Ducks_Price_for_young_Livestock', 'Quails_Price_for_mature_Livestock',\n",
    "    'Quails_Price_for_young_Livestock', 'Other_specified_Livestock_list_Price_for_mature_Livestock',\n",
    "    'Other_specified_Price_for_mature_Livestock', 'Other_specified_Livestock_list_Price_for_young_Livestock',\n",
    "    'Milk_market_ppu', 'Skins_market_ppu', 'Horns_market_ppu', 'Eggs_market_ppu', 'Honey_market_ppu',\n",
    "    'Wax_market_ppu', 'Blood_Meal_market_ppu', 'Cow_Dung_market_ppu', 'Name_of_other_specified_Dairy_Product_market_ppu'\n",
    "]"
   ]
  },
  {
   "cell_type": "code",
   "execution_count": 12,
   "id": "aaac3fb1",
   "metadata": {},
   "outputs": [],
   "source": [
    "for i in range(Raw.shape[0]):\n",
    "    col = 'sugarcane_price_fresh'\n",
    "    if Raw.loc[i,'sugarcane_yeild_uom'] == 'Each':\n",
    "        price_list = clean_prices[clean_prices['sugarcane_yeild_uom'] == 'Each'][col].dropna().to_list()\n",
    "        prx_range = np.arange(100,501).tolist()\n",
    "    elif Raw.loc[i,'sugarcane_yeild_uom'] == 'Tonnes':\n",
    "        price_list = clean_prices[clean_prices['sugarcane_yeild_uom'] == 'Tonnes'][col].dropna().to_list()\n",
    "        prx_range = np.arange(80000,125001).tolist()\n",
    "    elif Raw.loc[i,'sugarcane_yeild_uom'] == 'Bundle':\n",
    "        price_list = clean_prices[clean_prices['sugarcane_yeild_uom'] == 'Bundle'][col].dropna().to_list()\n",
    "        prx_range = np.arange(2000,8001).tolist()\n",
    "    else:\n",
    "        continue\n",
    "    if (Raw.loc[i,col] not in prx_range) or (Raw.loc[i,col] % 100 != 0):\n",
    "        Raw.loc[i,col] = rdm.choice(price_list)\n",
    "    else:\n",
    "        pass"
   ]
  },
  {
   "cell_type": "code",
   "execution_count": 13,
   "id": "32c14d74",
   "metadata": {},
   "outputs": [],
   "source": [
    "for i in my_price_columns:\n",
    "    if i in Raw.columns:\n",
    "        price_list = clean_prices[i].dropna().to_list()\n",
    "        for j in range(Raw.shape[0]):\n",
    "            if bool(price_list):\n",
    "                if pd.notna(Raw.loc[j,i]):\n",
    "                    if (Raw.loc[j,i] not in Prices[i]) or (Raw.loc[j,i] % 100 != 0) :\n",
    "                        Raw.loc[j,i] = rdm.choice(price_list)\n",
    "                    else:\n",
    "                        pass\n",
    "                else:\n",
    "                    pass\n",
    "            else:\n",
    "                pass"
   ]
  },
  {
   "cell_type": "markdown",
   "id": "7b8c69b9",
   "metadata": {},
   "source": [
    "SHOPPING (SEASONAL CROPS)"
   ]
  },
  {
   "cell_type": "code",
   "execution_count": 18,
   "id": "cfe75084",
   "metadata": {},
   "outputs": [],
   "source": [
    "# market_file = pd.read_csv('market_file.csv', header = 0)"
   ]
  },
  {
   "cell_type": "code",
   "execution_count": 62,
   "id": "fe532e75",
   "metadata": {},
   "outputs": [],
   "source": [
    "range1 = pd.read_excel('table base.xlsx', sheet_name='season1_data1')\n",
    "range2 = pd.read_excel('table base.xlsx', sheet_name='season2_data1')"
   ]
  },
  {
   "cell_type": "code",
   "execution_count": 16,
   "id": "4f1d8c50",
   "metadata": {},
   "outputs": [],
   "source": [
    "seasons = [1,2]\n",
    "Crop_indices = {}\n",
    "for k in seasons:\n",
    "    if k == 1:\n",
    "        ranges = range1\n",
    "    else:\n",
    "        ranges = range2\n",
    "    for i in range(ranges.shape[0]):\n",
    "        crop = ranges.loc[i,'Crops']\n",
    "        if f'sn_{k}_{crop}_Total_Yield' in market_file.columns:\n",
    "            m = market_file[(market_file[f'sn_{k}_{crop}_Total_Yield'] >= ranges.loc[i,'min']) & \n",
    "                            (market_file[f'sn_{k}_{crop}_Total_Yield'] <= ranges.loc[i,'max'])\n",
    "                        ].index.to_list()\n",
    "            Crop_indices[f'ID_{crop}_{k}'] = m"
   ]
  },
  {
   "cell_type": "code",
   "execution_count": 17,
   "id": "b504f3c8",
   "metadata": {},
   "outputs": [],
   "source": [
    "seasons = [1,2]\n",
    "for s in seasons:\n",
    "    if s == 1:\n",
    "        ranges = range1\n",
    "    else:\n",
    "        ranges = range2\n",
    "    for i in range(ranges.shape[0]):\n",
    "        crop = ranges.loc[i, 'Crops']\n",
    "        if (f'ID_{crop}_{s}' in Crop_indices.keys()) & (f'sn_{s}_{crop}_Total_Yield' in Raw.columns.to_list()) and bool(Crop_indices[f'ID_{crop}_{s}']):  \n",
    "            ID_list = Crop_indices[f'ID_{crop}_{s}']\n",
    "            list_copy = ID_list.copy()\n",
    "            for j in range(Raw.shape[0]):\n",
    "                if Raw.loc[j, f'sn_{s}_{crop}_Total_Yield'] > ranges.loc[i, 'max_yield']:\n",
    "                    if bool(ID_list): \n",
    "                        rdm.shuffle(ID_list)                                                              \n",
    "                    else:\n",
    "                        ID_list = list_copy.copy()\n",
    "  \n",
    "                    ID = ID_list.pop()\n",
    "                    columns = [\n",
    "    f\"sn_{s}_{crop}_planted\",f\"sn_{s}_{crop}_planted_impr\",f\"sn_{s}_{crop}_quantity_check\",f\"sn_{s}_improved_{crop}_planted_yield\",\n",
    "    f\"sn_{s}_improved_{crop}_source\",f\"sn_{s}_improved_{crop}_source_1\",f\"sn_{s}_improved_{crop}_source_2\",\n",
    "    f\"sn_{s}_improved_{crop}_source_3\",f\"sn_{s}_improved_{crop}_source_4\",f\"sn_{s}_improved_{crop}_source_5\",\n",
    "    f\"sn_{s}_improved_{crop}_source_6\",f\"sn_{s}_improved_{crop}_source_7\",f\"sn_{s}_improved_{crop}_source_8\",\n",
    "    f\"sn_{s}_improved_{crop}_source_97\",f\"sn_{s}_improved_{crop}_source_other\",f\"sn_{s}_{crop}_Total_Yield\",\n",
    "    f\"sn_{s}_improved_{crop}_seeds\",f\"sn_{s}_improved_{crop}_seeds_1\",f\"sn_{s}_improved_{crop}_seeds_2\",\n",
    "    f\"sn_{s}_improved_{crop}_replaced\",f\"sn_{s}_{crop}_1_yield_check\",f\"sn_{s}_improved_{crop}_planted_yeild\",\n",
    "    f\"sn_{s}_{crop}_Total_Yield_Fresh\",f\"sn_{s}_{crop}_Total_Yield_dry\",f\"sn_{s}_{crop}_fresh_dry\",            \n",
    "    f\"sn{s}_{crop}_fresh_dry\",f\"sn_{s}_{crop}_Total_Yield_sold\",f\"sn_{s}_{crop}_Total_Yield_sold_Fresh\",\n",
    "    f\"sn_{s}_{crop}_Total_Yield_sold_dry\",f\"sn_{s}_{crop}_Total_Yield_consume_Fresh\",f\"sn_{s}_{crop}_Total_Yield_consume_dry\",\n",
    "    f\"sn_{s}_{crop}_Yield_replanted\",f\"sn_{s}_{crop}_Yield_remittance_gift\",f\"sn_{s}_{crop}_Value_remittance_gift\",\n",
    "    f\"sn_{s}_{crop}_Yield_payment_fees_labour\",f\"sn_{s}_{crop}_Value_payment_fees_labour\",f\"sn_{s}_{crop}_Yield_stored\",\n",
    "    f\"sn_{s}_{crop}_Yield_spoiled\",f\"sn_{s}_{crop}_loss\",f\"sn_{s}_{crop}_loss_shocks\",\n",
    "    f\"sn_{s}_{crop}_loss_shocks_1\",f\"sn_{s}_{crop}_loss_shocks_2\", f\"sn_{s}_{crop}_loss_shocks_3\",\n",
    "    f\"sn_{s}_{crop}_loss_shocks_4\",f\"sn_{s}_{crop}_loss_shocks_5\",\n",
    "    f\"sn_{s}_{crop}_loss_shocks_6\", f\"sn_{s}_{crop}_loss_shocks_7\",f\"sn_{s}_{crop}_loss_shocks_8\",\n",
    "    f\"sn_{s}_{crop}_loss_shocks_9\",f\"sn_{s}_{crop}_loss_shocks_97\",f\"sn_{s}_{crop}_Total_Yield_consume\",\n",
    "    f\"sn_{s}_{crop}_loss_qty\",f\"sn{s}_{crop}_fresh_dry\",f'sn_{s}_{crop}_total_yield_tot',\n",
    "    f'sn_{s}_{crop}_Yield_Sold',f'sn_{s}_{crop}_Yield_consume',f'sn_{s}_total_yield_{crop}'\n",
    "]\n",
    "                    for column in columns:\n",
    "                        if column in Raw.columns.to_list() and column in market_file.columns.to_list():\n",
    "                            Raw.loc[j, column] = market_file.loc[ID, column]\n",
    "                        else:\n",
    "                            pass\n",
    "                else:\n",
    "                    pass\n",
    "        else:\n",
    "            pass"
   ]
  },
  {
   "cell_type": "markdown",
   "id": "7596791d",
   "metadata": {},
   "source": [
    "SHOPPING (PERENNIALS)"
   ]
  },
  {
   "cell_type": "code",
   "execution_count": 61,
   "id": "e34da961",
   "metadata": {},
   "outputs": [],
   "source": [
    "table_peren = pd.read_excel('Peren_base_table.xlsx', sheet_name='data1')"
   ]
  },
  {
   "cell_type": "code",
   "execution_count": 20,
   "id": "73c00fdf",
   "metadata": {},
   "outputs": [],
   "source": [
    "Peren_indices = {}\n",
    "for i in range(table_peren.shape[0]):\n",
    "    crop = table_peren.loc[i, 'Crops']\n",
    "\n",
    "    if f'{crop}_yeild' in market_file.columns.to_list():\n",
    "        m = market_file[(market_file[f'{crop}_yeild'] >= table_peren.loc[i, 'min']) & \n",
    "                        (market_file[f'{crop}_yeild'] <= table_peren.loc[i, 'max'])\n",
    "                       ].index.to_list()\n",
    "        Peren_indices[f'{crop}_ID'] = m\n",
    "\n",
    "    elif f'{crop}_yield' in market_file.columns.to_list():\n",
    "        m = market_file[(market_file[f'{crop}_yield'] >= table_peren.loc[i, 'min']) & \n",
    "                        (market_file[f'{crop}_yield'] <= table_peren.loc[i, 'max'])\n",
    "                       ].index.to_list()\n",
    "        Peren_indices[f'{crop}_ID'] = m\n",
    "\n",
    "    elif f'coffee_yeild_{crop}' in market_file.columns.to_list():\n",
    "        m = market_file[(market_file[f'coffee_yeild_{crop}'] >= table_peren.loc[i, 'min']) & \n",
    "                        (market_file[f'coffee_yeild_{crop}'] < table_peren.loc[i, 'max'])\n",
    "                       ].index.to_list()\n",
    "        Peren_indices[f'{crop}_ID'] = m\n",
    "    elif f'{crop}_Total_Yield' in market_file.columns.to_list():\n",
    "        m = market_file[(market_file[f'{crop}_Total_Yield'] >= table_peren.loc[i, 'min']) & \n",
    "                        (market_file[f'{crop}_Total_Yield'] <= table_peren.loc[i, 'max'])\n",
    "                       ].index.to_list()\n",
    "        Peren_indices[f'{crop}_ID'] = m\n",
    "    else:\n",
    "        Peren_indices[f'{crop}_ID'] = []\n",
    "    "
   ]
  },
  {
   "cell_type": "code",
   "execution_count": 21,
   "id": "a6c01d6c",
   "metadata": {},
   "outputs": [],
   "source": [
    "for i in range(table_peren.shape[0]):\n",
    "    peren = table_peren.loc[i, 'Crops']\n",
    "\n",
    "    yield_columns = [f'{peren}_yield', f'{peren}_yeild', f'coffee_yeild_{peren}', f'{peren}_Total_Yield']\n",
    "\n",
    "    for j in range(Raw.shape[0]):\n",
    "        selected = False\n",
    "        for col in yield_columns:\n",
    "            if (col in market_file.columns) and (Raw.loc[j, col] > table_peren.loc[i, 'max_yield']):\n",
    "                possible_ids = Peren_indices.get(f'{peren}_ID', [])\n",
    "                if possible_ids:\n",
    "                    ID = rdm.choice(possible_ids)\n",
    "                    selected = True\n",
    "                    break\n",
    "\n",
    "        if not selected:\n",
    "            continue\n",
    "\n",
    "        peren_columns = [\n",
    "            f\"coffee_Yield_payment_fees_labour_{peren}\", f\"coffee_Yield_remittance_gift_{peren}\", f'coffee_yeild_{peren}',\n",
    "            f\"coffee_Value_payment_fees_labour_{peren}\", f\"coffee_Value_remittance_gift_{peren}\",\n",
    "            f\"coffee_consumed_{peren}\", f\"coffee_sold_dry_{peren}\", f\"coffee_sold_fresh_{peren}\",\n",
    "            f\"coffee_sold_process_{peren}\", f\"coffee_yield_chk_{peren}\", f\"mature_{peren}_planted\",\n",
    "            f\"overall_{peren}_planted\", f\"{peren}_Yield_payment_fees_labour\", f\"{peren}_Yield_remittance_gift\",\n",
    "            f\"{peren}_Value_payment_fees_labour\", f\"{peren}_Value_remittance_gift\", f\"{peren}_consumed\",\n",
    "            f\"{peren}_number_tot\", f\"{peren}_season_yield\",f\"{peren}_season_yeild\", f\"{peren}_sold\", f\"{peren}_yeild_sold\",\n",
    "            f\"{peren}_yield\", f\"{peren}_yield_chk\", f\"{peren}_yield_consumed\", f\"{peren}_yield_sold_dried\",\n",
    "            f\"{peren}_yield_sold_fresh\", f\"{peren}_yield_sold_process\", f\"young_{peren}_planted\",\n",
    "            f\"{peren}_planted\", f\"{peren}_quantity_check\", f\"{peren}_Total_Yield\", f\"{peren}_tot_brk_qty\",\n",
    "            f\"{peren}_1_yield_check\", f\"{peren}_Total_Yield_sold\", f\"{peren}_Total_Yield_consume\", \n",
    "            f\"{peren}_Yield_remittance_gift\", f\"{peren}_Yield_payment_fees_labour\", f\"{peren}_yeild_consumed\",\n",
    "            f\"{peren}_Yield_stored\", f\"{peren}_Yield_spoiled\", f\"{peren}_loss\", \n",
    "            f\"{peren}_loss_shocks\", f\"{peren}_loss_shocks_1\", f\"{peren}_loss_shocks_2\", \n",
    "            f\"{peren}_loss_shocks_3\", f\"{peren}_loss_shocks_4\", f\"{peren}_loss_shocks_5\", \n",
    "            f\"{peren}_loss_shocks_6\", f\"{peren}_loss_shocks_7\", f\"{peren}_loss_shocks_8\", \n",
    "            f\"{peren}_loss_shocks_9\", f\"{peren}_loss_shocks_97\", f\"{peren}_loss_qty\", \n",
    "            f\"{peren}_Market_Price\", f\"{peren}_price_check\", f\"{peren}_total_yield_tot\",\n",
    "            f'{peren}_yield', f'{peren}_yeild', f'coffee_yield_{peren}', f'{peren}_Total_Yield',\n",
    "            \n",
    "        ]\n",
    "        for column in peren_columns:\n",
    "            if (column in Raw.columns) and (column in market_file.columns):\n",
    "                Raw.at[j, column] = market_file.at[ID, column]"
   ]
  },
  {
   "cell_type": "code",
   "execution_count": 22,
   "id": "acd5f3d7",
   "metadata": {},
   "outputs": [],
   "source": [
    "units = {'Each': 500,\n",
    "         'Bundle': 80,\n",
    "         'Tonnes': 6\n",
    "         }\n",
    "for unit in units.keys():\n",
    "    IDs = market_file[(market_file['sugarcane_yeild_uom'] == unit) & (market_file['sugarcane_yeild'] <= units[unit])].index.to_list()\n",
    "    \n",
    "    for i in range(Raw.shape[0]):\n",
    "        if (Raw.loc[i, 'sugarcane_yeild_uom'] == unit) and (Raw.loc[i, 'sugarcane_yeild'] > units[unit]):\n",
    "            if IDs:\n",
    "                ID = rdm.choice(IDs) \n",
    "                columns = [\n",
    "                    'overall_sugarcane_planted', 'mature_sugarcane_planted', 'young_sugarcane_planted', 'sugarcane_planted_uom',\n",
    "                    'sugarcane_planted_number_tot', 'sugarcane_yeild', 'sugarcane_yeild_chk', 'sugarcane_yeild_uom',\n",
    "                    'sugarcane_yeild_sold', 'sugarcane_yeild_consumed', 'sugarcane_Yield_remittance_gift',\n",
    "                    'sugarcane_Value_remittance_gift', 'sugarcane_Yield_payment_fees_labour',\n",
    "                    'sugarcane_Value_payment_fees_labour', 'sugarcane_tot_brk_qty']\n",
    "\n",
    "                for col in columns:\n",
    "                    Raw.loc[i, col] = market_file.loc[ID, col]"
   ]
  },
  {
   "cell_type": "code",
   "execution_count": null,
   "id": "0a856999",
   "metadata": {},
   "outputs": [],
   "source": []
  },
  {
   "cell_type": "markdown",
   "id": "1110d724",
   "metadata": {},
   "source": [
    "Yield per Unit (Planted Vs Yield)"
   ]
  },
  {
   "cell_type": "code",
   "execution_count": 15,
   "id": "dcd4087e",
   "metadata": {},
   "outputs": [],
   "source": [
    "yield_table = pd.read_excel('YieldPerUnit table.xlsx')\n",
    "\n",
    "crop_list = [crop for crop in yield_table['Crops']]  \n",
    "seasonz = [1,2]\n",
    "for s in seasonz:\n",
    "    for crop in crop_list:\n",
    "        Raw[f'{crop}_{s}_yield_per_unit'] = Raw[f'sn_{s}_{crop}_Total_Yield']/Raw[f'sn_{s}_{crop}_planted']\n",
    "\n",
    "for s in seasonz:\n",
    "    for m in range(yield_table.shape[0]):\n",
    "        crop = yield_table.loc[m,'Crops']\n",
    "\n",
    "        for i in range(Raw.shape[0]):\n",
    "            if (Raw.loc[i,f'{crop}_{s}_yield_per_unit'] > yield_table.loc[m,'Max']) or (Raw.loc[i,f'{crop}_{s}_yield_per_unit'] < yield_table.loc[m,'Min']):\n",
    "                selected = rdm.choice(range(yield_table.loc[m,'lower'],yield_table.loc[m,'upper']))\n",
    "                proportion = 1/selected\n",
    "                fig = Raw.loc[i, f'sn_{s}_{crop}_Total_Yield']*proportion\n",
    "                Raw.loc[i, f'sn_{s}_{crop}_planted'] = ceil(fig)"
   ]
  },
  {
   "cell_type": "markdown",
   "id": "73069cd0",
   "metadata": {},
   "source": [
    "Value_remittance_gift and Value_payment_fees_labour"
   ]
  },
  {
   "cell_type": "code",
   "execution_count": 68,
   "id": "51dc354c",
   "metadata": {},
   "outputs": [],
   "source": [
    "perenials = table_peren['Crops'].to_list()\n",
    "seasonals = range1['Crops'].to_list()\n",
    "crops = perenials + seasonals"
   ]
  },
  {
   "cell_type": "code",
   "execution_count": 69,
   "id": "b76d0c1a",
   "metadata": {},
   "outputs": [],
   "source": [
    "seasons = [1, 2]\n",
    "\n",
    "def value_remit(value, price, yeild):\n",
    "    Raw[value] = Raw[value].where(\n",
    "                                (Raw[value].isna()) |\n",
    "                                ((Raw[value] % 100 == 0) & (Raw[value] != 0)),\n",
    "                                Raw[price] * Raw[yeild]\n",
    "                                )\n",
    "for crop in crops:\n",
    "    for s in seasons:\n",
    "        options = [\n",
    "            (f'sn_{s}_{crop}_Value_remittance_gift', f'sn_{s}_{crop}_Market_Price_fresh', f'sn_{s}_{crop}_Yield_remittance_gift'),\n",
    "            (f'sn_{s}_{crop}_Value_remittance_gift', f'sn_{s}_{crop}_Market_Price', f'sn_{s}_{crop}_Yield_remittance_gift'),\n",
    "            (f'{crop}_Value_remittance_gift', f'{crop}_price_fresh', f'{crop}_Yield_remittance_gift'),\n",
    "            (f'{crop}_Value_remittance_gift', f'{crop}_price', f'{crop}_Yield_remittance_gift')\n",
    "            ]        \n",
    "        for value, price, yeild in options:\n",
    "            if value in Raw.columns and price in Raw.columns:\n",
    "                value_remit(value, price, yeild)\n",
    "                break"
   ]
  },
  {
   "cell_type": "code",
   "execution_count": 70,
   "id": "54a40864",
   "metadata": {},
   "outputs": [],
   "source": [
    "seasons = [1, 2]\n",
    "\n",
    "def value_exchg(value, price, yeild):\n",
    "    Raw[value] = Raw[value].where(\n",
    "                                (Raw[value].isna()) |\n",
    "                                ((Raw[value] % 100 == 0) & (Raw[value] != 0)),\n",
    "                                Raw[price] * Raw[yeild]\n",
    "                                )\n",
    "for crop in crops:\n",
    "    for s in seasons:\n",
    "        options = [\n",
    "            (f'sn_{s}_{crop}_Value_payment_fees_labour', f'sn_{s}_{crop}_Market_Price_dry', f'sn_{s}_{crop}_Yield_payment_fees_labour'),\n",
    "            (f'sn_{s}_{crop}_Value_payment_fees_labour', f'sn_{s}_{crop}_Market_Price', f'sn_{s}_{crop}_Yield_payment_fees_labour'),\n",
    "            (f'{crop}_Value_payment_fees_labour', f'{crop}_price_fresh', f'{crop}_Yield_payment_fees_labour'),\n",
    "            (f'{crop}_Value_payment_fees_labour', f'{crop}_price', f'{crop}_Yield_payment_fees_labour')\n",
    "            ]        \n",
    "        for value, price, yeild in options:\n",
    "            if value in Raw.columns and price in Raw.columns:\n",
    "                value_exchg(value, price, yeild)\n",
    "                break"
   ]
  },
  {
   "cell_type": "markdown",
   "id": "61d2ec64",
   "metadata": {},
   "source": [
    "FORMAL EMPLOYMENT"
   ]
  },
  {
   "cell_type": "code",
   "execution_count": 23,
   "id": "2c348e04",
   "metadata": {},
   "outputs": [],
   "source": [
    "employees = np.arange(1,7).tolist()\n",
    "for i in employees:\n",
    "    for idx in Raw.index:\n",
    "        months = rdm.choice([4,5,6,7,8,9,10])\n",
    "        if Raw.loc[idx,f'work_salaried{i}'] == 0:\n",
    "            Raw.loc[idx,f'work_salaried{i}'] = months\n",
    "        else:\n",
    "            pass"
   ]
  },
  {
   "cell_type": "code",
   "execution_count": 23,
   "id": "a38d7ae7",
   "metadata": {},
   "outputs": [],
   "source": [
    "# list1 = [2.0, 6.0, 9.0, 10.0, 450000.0]\n",
    "# list2 = [1.0, 5.0, 7.0, 15.0, 11.0, 17.0, 300000.0]\n",
    "# list3 = [3.0, 4.0, 12.0, 19.0, 22.0, 24.0, 200000.0]\n",
    "# list4 = [8.0, 13.0, 14.0, 16.0, 18.0, 20.0, 21.0, 23.0, 120000.0]"
   ]
  },
  {
   "cell_type": "code",
   "execution_count": 24,
   "id": "eb4f90a8",
   "metadata": {},
   "outputs": [],
   "source": [
    "employees = np.arange(1,7)\n",
    "list1 = [2,6,9,10,450000]\n",
    "list2 = [1,5,7,15,11,17,300000]\n",
    "list3 = [3,4,12,19,22,24,200000]\n",
    "list4 = [8,13,14,16,18,20,21,23,120000]\n",
    "\n",
    "for i in employees:\n",
    "    for j in range(Raw.shape[0]):\n",
    "        if (Raw.loc[j,f'formal_salaried{i}'] in list1) and (Raw.loc[j,f'work_netpay_salaried{i}']>max(list1)):\n",
    "                Raw.loc[j,f'work_netpay_salaried{i}'] = (rdm.choice([32,36,38,40,42,44,45]))*10000\n",
    "        elif (Raw.loc[j,f'formal_salaried{i}'] in list2) and (Raw.loc[j,f'work_netpay_salaried{i}']>max(list2)):\n",
    "            Raw.loc[j,f'work_netpay_salaried{i}'] = (rdm.choice([24,25,26,28,30]))*10000\n",
    "\n",
    "        elif (Raw.loc[j,f'formal_salaried{i}'] in list3) and (Raw.loc[j,f'work_netpay_salaried{i}']>max(list3)):\n",
    "            Raw.loc[j,f'work_netpay_salaried{i}'] = (rdm.choice([15,17,18,20]))*10000\n",
    "\n",
    "        elif (Raw.loc[j,f'formal_salaried{i}'] in list4) and (Raw.loc[j,f'work_netpay_salaried{i}']>max(list4)):\n",
    "            Raw.loc[j,f'work_netpay_salaried{i}'] = (rdm.choice([5,7,8,10,12]))*10000\n",
    "        else:\n",
    "            pass"
   ]
  },
  {
   "cell_type": "code",
   "execution_count": 25,
   "id": "6aea2804",
   "metadata": {},
   "outputs": [],
   "source": [
    "# Raw1['work_netpay_salaried2'].max()\n",
    "\n",
    "# Raw[['formal_salaried1', 'formal_salaried1_part1', 'formal_salaried1_part2','work_netpay_salaried1']].head(10)#.to_csv('sig.csv')"
   ]
  },
  {
   "cell_type": "code",
   "execution_count": 25,
   "id": "9f485d1f",
   "metadata": {},
   "outputs": [],
   "source": [
    "def formal_increase(dataset, formal_income, iterations):\n",
    "\n",
    "    while (formal_income > 74000) and (iterations < 12):\n",
    "        for i in employees:\n",
    "            dataset[f'work_salaried{i}'] = dataset[f'work_salaried{i}'].where(dataset[f'work_salaried{i}']<4,dataset[f'work_salaried{i}']-1)\n",
    "            dataset[f'work_netpay_annual_salaried{i}'] = dataset[f'work_salaried{i}']*dataset[f'work_netpay_salaried{i}']\n",
    "            dataset[f'work_netpay_annual_salaried{i}'] = (dataset[f'work_netpay_annual_salaried{i}'].fillna(0))\n",
    "\n",
    "            dataset['work_netpay_annual_salaried'] = dataset[[f'work_netpay_annual_salaried{i}' for i in employees]].sum(axis=1)\n",
    "    \n",
    "        formal_income = dataset['work_netpay_annual_salaried'].mean()\n",
    "        iterations += 1\n",
    "    return dataset"
   ]
  },
  {
   "cell_type": "code",
   "execution_count": 26,
   "id": "3c024603",
   "metadata": {},
   "outputs": [],
   "source": [
    "Raw = Raw.groupby('pre_district').apply(lambda x: formal_increase(x, 100000, 0))\n",
    "Raw = Raw.reset_index(drop=True)"
   ]
  },
  {
   "cell_type": "code",
   "execution_count": 27,
   "id": "76872af7",
   "metadata": {},
   "outputs": [],
   "source": [
    "def formal_decrease(dataset, formal_income, iterations):\n",
    "\n",
    "    while (formal_income < 55000) and (iterations < 12):\n",
    "        for i in employees:\n",
    "            dataset[f'work_salaried{i}'] = dataset[f'work_salaried{i}'].where((dataset[f'work_salaried{i}']>8)|(dataset[f'work_salaried{i}'].isna()),dataset[f'work_salaried{i}']+1)\n",
    "            dataset[f'work_netpay_annual_salaried{i}'] = dataset[f'work_salaried{i}']*dataset[f'work_netpay_salaried{i}']\n",
    "            dataset[f'work_netpay_annual_salaried{i}'] = (dataset[f'work_netpay_annual_salaried{i}'].fillna(0))\n",
    "\n",
    "            dataset['work_netpay_annual_salaried'] = dataset[[f'work_netpay_annual_salaried{i}' for i in employees]].sum(axis=1)\n",
    "    \n",
    "        formal_income = dataset['work_netpay_annual_salaried'].mean()\n",
    "        iterations += 1\n",
    "    return dataset\n",
    "\n",
    "Raw = Raw.groupby('pre_district').apply(lambda x: formal_decrease(x, 500, 0))\n",
    "Raw = Raw.reset_index(drop=True)"
   ]
  },
  {
   "cell_type": "markdown",
   "id": "969c17fb-5038-45ba-8247-6d478a163612",
   "metadata": {},
   "source": [
    "BUSINESS"
   ]
  },
  {
   "cell_type": "code",
   "execution_count": 28,
   "id": "71b08706-8bed-4f93-a8cb-07d6c360d4e3",
   "metadata": {},
   "outputs": [],
   "source": [
    "Business_list = np.arange(1,29).tolist()\n",
    "Business_list.append('other')\n",
    "\n",
    "Blist1 = [1,3,5,8,11,12,13,17,18,20,24,26,28,'other',70000]\n",
    "Blist2 = [2,4,6,7,9,10,14,21,23,27,120000]\n",
    "Blist3 = [15,16,19,22,25,200000]\n",
    "Avg_bus_inc = 100000\n",
    "\n",
    "for i in Business_list:\n",
    "    for idx in Raw.index:\n",
    "        months = rdm.choice([4,5,6,7,8,9,10])\n",
    "        if Raw.loc[idx,f'business{i}_operating_months'] == 0:\n",
    "            Raw.loc[idx,f'business{i}_operating_months'] = months\n",
    "        else:\n",
    "            pass\n",
    "        \n",
    "for i in Business_list:\n",
    "    for j in range(Raw.shape[0]):\n",
    "        if i in Blist1 and ((Raw.loc[j, f'business{i}_profit'] < 1000) | (Raw.loc[j,f'business{i}_profit'] > 60000)):\n",
    "            Raw.loc[j, f'business{i}_profit'] = rdm.choice([4,6,7,8,9,10,11,12,9.6])*5000\n",
    "        \n",
    "        elif i in Blist2 and ((Raw.loc[j, f'business{i}_profit'] < 1000) | (Raw.loc[j,f'business{i}_profit'] > max(Blist2))):\n",
    "            Raw.loc[j, f'business{i}_profit'] = rdm.choice((np.arange(12,21).tolist()))*5000\n",
    "                                                            \n",
    "        elif i in Blist3 and ((Raw.loc[j, f'business{i}_profit'] < 1000) | (Raw.loc[j,f'business{i}_profit'] > max(Blist3))):\n",
    "            Raw.loc[j, f'business{i}_profit'] = rdm.choice((np.arange(20,28).tolist()))*5000\n",
    "        else:\n",
    "            pass\n",
    "        "
   ]
  },
  {
   "cell_type": "code",
   "execution_count": 31,
   "id": "d93fd6f3",
   "metadata": {},
   "outputs": [],
   "source": [
    "def busn(dset, Avg_bus_inc, Iteration):\n",
    "    while Avg_bus_inc > 111000 and Iteration <12:\n",
    "        dset['hh_receive_vsla_profits'] = dset['hh_receive_vsla_profits'].where(\n",
    "        (((dset['hh_receive_vsla_profits'] < 300000) | (dset['hh_receive_vsla_profits'].isna())) & (dset['hh_receive_vsla_profits'] !=1)),\n",
    "        rdm.choice(np.arange(3, 7).tolist()) * 50000)\n",
    "        for i in Business_list:\n",
    "            dset[f'business{i}_operating_months'] = dset[f'business{i}_operating_months'].where(\n",
    "                    dset[f'business{i}_operating_months']<4,dset[f'business{i}_operating_months']-1)\n",
    "               \n",
    "            dset[f'{i}_Income'] = dset[f'business{i}_operating_months']*dset[f'business{i}_profit']\n",
    "            dset[f'{i}_Income'] = dset[f'{i}_Income'].fillna(0)\n",
    "\n",
    "        dset['Bus_income'] = dset[[f'{i}_Income' for i in Business_list]+['hh_receive_vsla_profits']].sum(axis = 1)\n",
    "        Avg_bus_inc = dset['Bus_income'].mean()\n",
    "        Iteration+=1\n",
    "    return dset"
   ]
  },
  {
   "cell_type": "code",
   "execution_count": 30,
   "id": "2d8c92b6",
   "metadata": {},
   "outputs": [],
   "source": [
    "Raw = Raw.groupby('pre_district').apply(lambda x: busn(x, 100000, 0))\n",
    "Raw = Raw.reset_index(drop=True)"
   ]
  },
  {
   "cell_type": "markdown",
   "id": "df87069c",
   "metadata": {},
   "source": [
    "CASUAL LABOUR"
   ]
  },
  {
   "cell_type": "code",
   "execution_count": 32,
   "id": "bb0935b9",
   "metadata": {},
   "outputs": [],
   "source": [
    "employees = np.arange(1, 7).tolist()\n",
    "my_list = [5, 6, 8, 10]\n",
    "remaining_choices = my_list.copy() \n",
    "rdm.shuffle(remaining_choices)    \n",
    "\n",
    "for i in employees:\n",
    "    for idx in Raw.index:\n",
    "        months = rdm.choice([5,6,7,8,9,10,11,12])\n",
    "        if Raw.loc[idx,f'casual_activity_member{i}_duration'] == 0:\n",
    "            Raw.loc[idx,f'casual_activity_member{i}_duration'] = months\n",
    "        else:\n",
    "            pass\n",
    "    for idx in Raw.index:\n",
    "        days = rdm.choice([4,5,6])\n",
    "        if Raw.loc[idx,f'casual_work_days_member{i}'] == 0:\n",
    "            Raw.loc[idx,f'casual_work_days_member{i}'] = days\n",
    "        else:\n",
    "            pass\n",
    "\n",
    "for i in employees:\n",
    "    column_name = f'casual_work_inkind_member{i}' \n",
    "    for idx in Raw.index:\n",
    "        \n",
    "        if not (\n",
    "            (Raw.loc[idx, column_name] == 0) or \n",
    "            (pd.isna(Raw.loc[idx, column_name])) or \n",
    "            ((Raw.loc[idx, column_name] < 10000) and (Raw.loc[idx, column_name] % 500 == 0))\n",
    "        ):\n",
    "            if not remaining_choices:\n",
    "                remaining_choices = my_list.copy()\n",
    "                rdm.shuffle(remaining_choices)\n",
    "            \n",
    "            selected_value = remaining_choices.pop(0)\n",
    "\n",
    "            Raw.loc[idx, column_name] = selected_value * 1000"
   ]
  },
  {
   "cell_type": "code",
   "execution_count": 31,
   "id": "8e8ddf0a",
   "metadata": {},
   "outputs": [],
   "source": [
    "# Raw[[f'casual_work_inkind_member{i}' for i in employees]].to_csv('Cleaned.csv')"
   ]
  },
  {
   "cell_type": "code",
   "execution_count": 33,
   "id": "77e9344d",
   "metadata": {},
   "outputs": [],
   "source": [
    "employees = np.arange(1, 7).tolist()\n",
    "for i in employees:\n",
    "    for j in Raw.index:\n",
    "        daily_wage = Raw[f'casual_work_wage_member{i}'][j]/Raw[f'casual_work_days_member{i}'][j]\n",
    "        if ((daily_wage < 4000) | (daily_wage > 7500)) and pd.notna(daily_wage):\n",
    "            choic = rdm.choice([9,10,11,12,13])\n",
    "            Raw[f'casual_work_wage_member{i}'][j] = choic*500*Raw[f'casual_work_days_member{i}'][j]\n",
    "        else:\n",
    "            pass\n",
    "\n",
    "    Raw[f'Casual{i}'] = 4*Raw[f'casual_activity_member{i}_duration']*(Raw[f'casual_work_wage_member{i}']+Raw[f'casual_work_inkind_member{i}'])\n",
    "\n",
    "Raw['casual_total'] = Raw[[f'Casual{i}' for i in employees]].sum(axis=1)\n",
    "Raw['casual_total'] =  Raw['casual_total'].fillna(0)\n",
    "casual_income = Raw['casual_total'].mean()\n",
    "\n"
   ]
  },
  {
   "cell_type": "code",
   "execution_count": 34,
   "id": "281ee7dd",
   "metadata": {},
   "outputs": [],
   "source": [
    "def casual_increase(dataset,casual_income,Iterations):\n",
    "    while (casual_income < 308000) and (Iterations <10):\n",
    "        employees = np.arange(1, 7).tolist()\n",
    "        for i in employees:\n",
    "            dataset[f'casual_work_days_member{i}'] = dataset[f'casual_work_days_member{i}'].where(  (dataset[f'casual_work_days_member{i}']>4) |\n",
    "                                                                                        (dataset[f'casual_work_days_member{i}'].isna()),\n",
    "                                                                                          dataset[f'casual_work_days_member{i}']+1)\n",
    "            dataset[f'casual_activity_member{i}_duration'] = dataset[f'casual_activity_member{i}_duration'].where(  (dataset[f'casual_activity_member{i}_duration']>9) |\n",
    "                                                                                        (dataset[f'casual_activity_member{i}_duration'].isna()),\n",
    "                                                                                          dataset[f'casual_activity_member{i}_duration']+1)\n",
    "            for j in dataset.index:\n",
    "                daily_wage = dataset[f'casual_work_wage_member{i}'][j]/dataset[f'casual_work_days_member{i}'][j]\n",
    "                if ((daily_wage < 4000) | (daily_wage > 7500)) and pd.notna(daily_wage):\n",
    "                    choic = rdm.choice([9,10,11,12,13])\n",
    "                    dataset[f'casual_work_wage_member{i}'][j] = choic*500*dataset[f'casual_work_days_member{i}'][j]\n",
    "                else:\n",
    "                    pass\n",
    "\n",
    "            dataset[f'Casual{i}'] = 4*dataset[f'casual_activity_member{i}_duration']*(dataset[f'casual_work_wage_member{i}']+dataset[f'casual_work_inkind_member{i}'])\n",
    "\n",
    "        dataset['casual_total'] = dataset[[f'Casual{i}' for i in employees]].sum(axis=1)\n",
    "        dataset['casual_total'] =  dataset['casual_total'].fillna(0)\n",
    "        casual_income = dataset['casual_total'].mean()\n",
    "        Iterations +=1\n",
    "    return dataset\n",
    "\n",
    "Raw = Raw.groupby('pre_district').apply(lambda x: casual_increase(x, 100000, 0))\n",
    "Raw = Raw.reset_index(drop=True)"
   ]
  },
  {
   "cell_type": "code",
   "execution_count": 35,
   "id": "0a7d1b2a",
   "metadata": {},
   "outputs": [],
   "source": [
    "Raw[[f'casual_work_wage_member{i}' for i in employees]+[f'casual_work_days_member{i}' for i in employees]\n",
    "    +[f'casual_total']+[f'casual_activity_member{i}_duration' for i in employees] + [f'casual_work_inkind_member{i}' for i in employees]].to_excel('sig.xlsx')"
   ]
  },
  {
   "cell_type": "markdown",
   "id": "7daf0e2d",
   "metadata": {},
   "source": [
    "GIFTS AND REMITTANCES"
   ]
  },
  {
   "cell_type": "code",
   "execution_count": 32,
   "id": "16d6fa63",
   "metadata": {},
   "outputs": [],
   "source": [
    "df = {'remittance_gifts_relative': [30000],\n",
    "        'remittance_gifts_children': [40000],\n",
    "        'remittance_gifts_friends': [50000],\n",
    "        'remittance_gifts_other': [45000]}\n",
    "df = pd.DataFrame(df)\n",
    "for i in df.columns:\n",
    "        for j in range(Raw.shape[0]):\n",
    "                if ((Raw.loc[j,i] > df[i][0]) or (Raw.loc[j,i]%500 != 0)) and pd.notna(Raw.loc[j,i]) or (Raw.loc[j,i] == 0): \n",
    "                        Raw.loc[j,i] = rdm.choice([2,3,4,5,6])*5000\n",
    "Raw['govt_assistance_value'] = Raw['govt_assistance_value'].where(((Raw['govt_assistance_value']==0) | \n",
    "                                                                  (Raw['govt_assistance_value']%100 ==0)) &\n",
    "                                                                  (Raw['govt_assistance_value']< 100000),\n",
    "                                                                   rdm.choice([5,6,7,8])*10000)\n",
    "Raw['gifts'] = Raw[['remittance_gifts_relative','remittance_gifts_children','remittance_gifts_friends',\n",
    "                 'remittance_gifts_other','govt_assistance_value']].sum(axis = 1)\n",
    "gift_rem = Raw['gifts'].mean()"
   ]
  },
  {
   "cell_type": "markdown",
   "id": "6af4f696",
   "metadata": {},
   "source": [
    "RENT AND PROPERTY"
   ]
  },
  {
   "cell_type": "code",
   "execution_count": 33,
   "id": "1834cc72",
   "metadata": {},
   "outputs": [],
   "source": [
    "# rent = pd.read_excel('Unclean.xlsx', sheet_name = 'Rent')"
   ]
  },
  {
   "cell_type": "code",
   "execution_count": 34,
   "id": "ec5fb6e4",
   "metadata": {},
   "outputs": [],
   "source": [
    "my_dict= {\n",
    "    'Rent_Amount_Received_by_household': [150000, [5,6,7,8,10,12], 10000],\n",
    "    'property_house_rent': [450000, [10, 11, 12, 14], 20000],\n",
    "    'events_Rentals': [400000, [10, 11, 12, 14], 20000],\n",
    "    'Vehicle_Rentals': [500000, [2,3,4,5], 50000],\n",
    "    'farm_equipments_Rentals': [200000, [4,5,6,7,8], 10000],\n",
    "    'electronics_Rentals': [250000, [5,6,8,10,12], 10000],\n",
    "    'fishingnet_Rentals': [100000, [4,5,6,7,8,9,10], 5000],\n",
    "    'other_Rental_income': [120000, [8,10,12,15,20], 10000]\n",
    "}\n",
    "for var, content in my_dict.items():\n",
    "    for j in range(Raw.shape[0]):\n",
    "        if ((Raw.loc[j, var] > my_dict[var][0]) | (Raw.loc[j, var] % 500 != 0)) and pd.notna(Raw.loc[j, var]): \n",
    "            Raw.loc[j, var] = rdm.choice(my_dict[var][1]) * my_dict[var][2]\n",
    "\n",
    "Raw['Rent_income'] = Raw[['Rent_Amount_Received_by_household','property_house_rent','events_Rentals',\n",
    "                            'Vehicle_Rentals','farm_equipments_Rentals','electronics_Rentals','fishingnet_Rentals','other_Rental_income']].sum(axis = 1)"
   ]
  },
  {
   "cell_type": "markdown",
   "id": "94b57eb9",
   "metadata": {},
   "source": [
    "LIVE STOCK INCOME AND ASSET VALUE"
   ]
  },
  {
   "cell_type": "code",
   "execution_count": 4,
   "id": "05592626",
   "metadata": {},
   "outputs": [],
   "source": [
    "ls_dict = {'Goats': [3, np.arange(1,4).tolist(),160000,[4,5,6,7,8],20000],\n",
    "           'Sheep': [3, np.arange(1,4).tolist(),140000,[4,5,6,7],20000],\n",
    "           'Chicken': [5, np.arange(2,6).tolist(),50000,[2,3,4,5,6,7],5000],\n",
    "           'Pigs': [3, np.arange(1,2).tolist(),180000,[3,4,5,6,7,8,9],20000],\n",
    "           'Rabbits': [5, np.arange(2,6).tolist(),70000,[2,3,4,5,6,7],5000],\n",
    "           'Cows': [3, np.arange(1,3).tolist(),500000,[10,11,12,13,14,15],50000],\n",
    "           'Bees': [4, np.arange(1,5).tolist(),50000,[3,4,5,6,7],10000],\n",
    "           'Guinea_Pigs': [5, np.arange(2,5).tolist(),40000,[2,3,4,5,6,7],5000],\n",
    "           'Ducks': [5, np.arange(1,5).tolist(),60000,[2,3,4,5,6,7],5000],\n",
    "           'Quails': [5, np.arange(2,5).tolist(),40000,[2,3,4,5,6,7],5000],\n",
    "           'Other_specified_Livestock_list': [4, np.arange(2,6).tolist(),150000,[6,7,8,9,10,12,14],10000]\n",
    "           }\n",
    "\n",
    "for var, ranges in ls_dict.items():\n",
    "    for j in range(Raw.shape[0]):\n",
    "        value = Raw.loc[j, f'{var}_Number_of_Livestock']\n",
    "        if ((value> ls_dict[var][0]) | (value == 0)) and pd.notna(value): \n",
    "            value = rdm.choice(ls_dict[var][1])\n",
    "            Raw.loc[j, f'{var}_Number_of_Livestock'] = value\n",
    "            Raw.loc[j, f'{var}_Number_of_Mature_Livestock'] = rdm.choice(np.arange(1,value+1).tolist())\n",
    "    \n",
    "    Raw[f'{var}_Number_of_Young_Livestock'] = Raw[f'{var}_Number_of_Livestock'] - Raw[f'{var}_Number_of_Mature_Livestock']\n",
    "    Raw[f'{var}_number_tot'] = Raw[f'{var}_Number_of_Livestock']\n"
   ]
  },
  {
   "cell_type": "code",
   "execution_count": null,
   "id": "0eb30492",
   "metadata": {},
   "outputs": [],
   "source": [
    "Raw = pd.read_excel('selected_cols.xlsx')"
   ]
  },
  {
   "cell_type": "code",
   "execution_count": null,
   "id": "a490a63f",
   "metadata": {},
   "outputs": [],
   "source": [
    "for ls in ls_dict.keys():\n",
    "    if f'{ls}_Number_of_Livestock' in Raw.columns:\n",
    "        Raw[f'{ls}_Sold_consumed'] = Raw[[f'{ls}_Livestock_Number_Consumed', f'{ls}_Number_of_Livestock_Sold']].sum(axis = 1)\n",
    "\n",
    "Raw.to_csv('sig.csv')"
   ]
  },
  {
   "cell_type": "code",
   "execution_count": 36,
   "id": "5ca41395",
   "metadata": {},
   "outputs": [],
   "source": [
    "for m, j in ls_dict.items():\n",
    "    Raw[f'{m}_Value_of_Livestock_consumed'] = Raw[f'{m}_Value_of_Livestock_consumed'].apply(\n",
    "        lambda x: x if (x<ls_dict[m][2] or pd.isna(x)) else rdm.choice(ls_dict[m][3]) * ls_dict[m][4])"
   ]
  },
  {
   "cell_type": "code",
   "execution_count": 37,
   "id": "7fdf6871",
   "metadata": {},
   "outputs": [],
   "source": [
    "reared = ['goats', 'sheep','pigs','cows']\n",
    "for animal in reared:\n",
    "    for animal in reared:\n",
    "        Raw[f'{animal}_reared_month_pay'] = Raw[f'{animal}_reared_month_pay'].apply(lambda x: x if ((pd.isna(x)) or (x < 40000 and x % 100 == 0)) else rdm.choice([3, 4, 5, 6, 7]) * 5000)\n",
    "        Raw[f'{animal}_reared_months'] = Raw[f'{animal}_reared_months'].apply(lambda x: x if (((x < 8) or (pd.isna(x))) and (x != 0)) else rdm.choice([3, 4, 5, 6, 7]))"
   ]
  },
  {
   "cell_type": "code",
   "execution_count": 38,
   "id": "20defe80",
   "metadata": {},
   "outputs": [],
   "source": [
    "# live.to_excel('sig.xlsx')"
   ]
  },
  {
   "cell_type": "code",
   "execution_count": 39,
   "id": "7c702de7",
   "metadata": {},
   "outputs": [],
   "source": [
    "inc_dict = {'Goats': [350000, [7,8,9,10,11,12],20000,'Goats'],\n",
    "           'sheep': [300000, [7,8,9,10,11],20000,'Sheep'],\n",
    "           'chicken': [80000, [5,6,7,8,9,10],5000,'Chicken'],\n",
    "           'pigs': [400000, [3,4,5,6,7],50000,'Pigs'],\n",
    "           'Rabbits': [100000, [3,4,5,7,8],10000,'Rabbits'],\n",
    "           'Cows': [850000, [5,6,7,8],100000,'Cows'],\n",
    "           'bees_hives': [120000, [4,5,6,7,8],10000,'Bees'],\n",
    "           'guinea': [100000, [3,4,5,7,8],10000,'Guinea_Pigs'],\n",
    "           'Ducks': [50000, [4,5,6,7,8],5000,'Ducks'],\n",
    "           'Quails': [50000, [3,4,5,6,7],5000,'Quails'],\n",
    "           'other_livestock': [200000, [5,6,7,8,9],20000,'Other_specified_Livestock_list']\n",
    "           }\n",
    "\n",
    "for var, ranges in inc_dict.items():\n",
    "    for j in range(Raw.shape[0]):\n",
    "        value = Raw.loc[j, f'{var}_sales']\n",
    "        if (value> inc_dict[var][0]) and pd.notna(value): \n",
    "            value = rdm.choice(inc_dict[var][1])*inc_dict[var][2]\n",
    "            Raw.loc[j, f'{var}_sales'] = value\n",
    "    Raw[f'{ranges[3]}_Income_Livestock_Sales'] = Raw[f'{var}_sales']\n",
    "\n",
    "    if f'{var}_dead_sales' in Raw.columns:\n",
    "        Raw[f'{var}_incomes'] = Raw[f'{var}_sales']+ Raw[f'{var}_dead_sales']\n",
    "    elif f'{var}_dead_sale' in Raw.columns:\n",
    "        Raw[f'{var}_incomes'] = Raw[f'{var}_sales']+ Raw[f'{var}_dead_sale']\n",
    "    else:\n",
    "        pass\n",
    "    Raw['cows_incomes']    = Raw['Cow_dead_sales']+ Raw['Cows_sales']\n",
    "    Raw['goat_incomes']    = Raw['Goats_dead_sale']+ Raw['Goats_sales']\n",
    "    Raw['sheep_income']   = Raw['sheep_dead_sales']+ Raw['sheep_sales']\n",
    "    Raw['pigs_income']    = Raw['pigs_dead_sale']+ Raw['pigs_sales']\n",
    "    Raw['rabbits_income'] = Raw['Rabbits_dead_sales']+ Raw['Rabbits_sales']\n",
    "    Raw['ducks_income']   = Raw['Ducks_dead_sale']+ Raw['Ducks_sales']\n",
    "    Raw['quails_income']   = Raw['Quails_dead_sales']+ Raw['Quails_sales']\n",
    "    Raw['other_livestock_income'] = Raw['other_livestock_dead_sales']+ Raw['other_livestock_sales']"
   ]
  },
  {
   "cell_type": "code",
   "execution_count": 40,
   "id": "bb91d592",
   "metadata": {},
   "outputs": [],
   "source": [
    "pdt_table = pd.read_excel('Products table.xlsx')"
   ]
  },
  {
   "cell_type": "code",
   "execution_count": 41,
   "id": "0202c320",
   "metadata": {},
   "outputs": [],
   "source": [
    "Raw['Cow_Dung_unit_Measure'] = Raw['Cow_Dung_unit_Measure'].where((pd.isna(Raw['Cow_Dung_unit_Measure']))| \n",
    "                                                                  ((Raw['Cow_Dung_unit_Measure']=='Wheelbarrow')|\n",
    "                                                                   (Raw['Cow_Dung_unit_Measure']=='Heap')|\n",
    "                                                                   (Raw['Cow_Dung_unit_Measure']=='Bags')),'Bags')"
   ]
  },
  {
   "cell_type": "code",
   "execution_count": 42,
   "id": "43620060",
   "metadata": {},
   "outputs": [],
   "source": [
    "for i in range(Raw.shape[0]):\n",
    "    col = 'Cow_Dung_market_ppu'\n",
    "    if Raw.loc[i,'Cow_Dung_unit_Measure'] == 'Wheelbarrow':\n",
    "        price_list = clean_prices[clean_prices['Cow_Dung_unit_Measure'] == 'Wheelbarrow'][col].dropna().to_list()\n",
    "        prx_range = np.arange(2000,15001).tolist()\n",
    "    elif Raw.loc[i,'Cow_Dung_unit_Measure'] == 'Heap':\n",
    "        price_list = clean_prices[clean_prices['Cow_Dung_unit_Measure'] == 'Heap'][col].dropna().to_list()\n",
    "        prx_range = np.arange(15000,60001).tolist()\n",
    "    elif Raw.loc[i,'Cow_Dung_unit_Measure'] == 'Bags':\n",
    "        price_list = clean_prices[clean_prices['Cow_Dung_unit_Measure'] == 'Bags'][col].dropna().to_list()\n",
    "        prx_range = np.arange(3000,20001).tolist()\n",
    "    else:\n",
    "        continue\n",
    "    if (Raw.loc[i,col] not in prx_range) or (Raw.loc[i,col] % 100 != 0):\n",
    "        Raw.loc[i,col] = rdm.choice(price_list)\n",
    "    else:\n",
    "        pass"
   ]
  },
  {
   "cell_type": "code",
   "execution_count": 43,
   "id": "156435ab",
   "metadata": {},
   "outputs": [],
   "source": [
    "units = {'Heap': 8,\n",
    "         'Wheelbarrow': 35,\n",
    "         'Bags': 40\n",
    "         }\n",
    "for unit in units.keys():\n",
    "    IDs = Raw1[(Raw1['Cow_Dung_unit_Measure'] == unit) & (Raw1['Cow_Dung_quantity'] <= units[unit])].index.to_list()\n",
    "    \n",
    "    for i in range(Raw.shape[0]):\n",
    "        if (Raw.loc[i, 'Cow_Dung_unit_Measure'] == unit) and (Raw.loc[i, 'Cow_Dung_quantity'] > units[unit]):\n",
    "            if IDs:\n",
    "                ID = rdm.choice(IDs)\n",
    "                columns = [\n",
    "                            'Cow_Dung_quantity','Cow_Dung_unit_Measure','Cow_Dung_quantity_check',\n",
    "                            'Cow_Dung_quantity_Consumed','Cow_Dung_quantity_Sold','Cow_Dung_tot'\n",
    "                            ]\n",
    "                for col in columns:\n",
    "                    Raw.loc[i, col] = Raw1.loc[ID, col]\n",
    "Raw['Cow_Dung_product_Income'] = Raw['Cow_Dung_market_ppu'] * Raw['Cow_Dung_quantity_Sold'] "
   ]
  },
  {
   "cell_type": "code",
   "execution_count": 44,
   "id": "7fa1573b",
   "metadata": {},
   "outputs": [],
   "source": [
    "Raw[['Cow_Dung_quantity','Cow_Dung_unit_Measure','Cow_Dung_quantity_check',\n",
    "                            'Cow_Dung_quantity_Consumed','Cow_Dung_quantity_Sold', 'Cow_Dung_market_ppu','Cow_Dung_tot']].to_csv('Cleaned.csv')"
   ]
  },
  {
   "cell_type": "code",
   "execution_count": 45,
   "id": "c469b0ba",
   "metadata": {},
   "outputs": [],
   "source": [
    "pdt_indices = {}\n",
    "for i in range(pdt_table.shape[0]):\n",
    "    pdt = pdt_table.loc[i,'product']\n",
    "    m = market_file[(market_file[f'{pdt}_quantity'] >= pdt_table.loc[i,'min']) & \n",
    "                        (market_file[f'{pdt}_quantity'] <= pdt_table.loc[i,'max'])\n",
    "                        ].index.to_list()\n",
    "    pdt_indices[f'{pdt}_ID'] = m"
   ]
  },
  {
   "cell_type": "code",
   "execution_count": 46,
   "id": "aaefee3a",
   "metadata": {},
   "outputs": [],
   "source": [
    "# pdt_indices"
   ]
  },
  {
   "cell_type": "code",
   "execution_count": 47,
   "id": "918323f6",
   "metadata": {},
   "outputs": [],
   "source": [
    "for i in range(pdt_table.shape[0]):\n",
    "    pdt = pdt_table.loc[i, 'product']\n",
    "    for j in range(Raw.shape[0]):\n",
    "        if Raw.loc[j, f'{pdt}_quantity'] > pdt_table.loc[i, 'max_pdt']:    \n",
    "            ID = rdm.choice(pdt_indices[f'{pdt}_ID'])\n",
    "            columns = [\n",
    "                f'{pdt}_quantity',f'{pdt}_unit_Measure',f'{pdt}_quantity_Consumed',f'{pdt}_quantity_Sold',f'{pdt}_tot', f'{pdt}_product_Income'\n",
    "                    ]\n",
    "            for column in columns:\n",
    "                if column in Raw.columns.to_list() and column in market_file.columns.to_list():\n",
    "                    Raw.loc[j, column] = market_file.loc[ID, column]\n",
    "                else:\n",
    "                    pass\n"
   ]
  },
  {
   "cell_type": "code",
   "execution_count": 48,
   "id": "e172f420",
   "metadata": {},
   "outputs": [],
   "source": [
    "cols = [f'{pdt}' for pdt in pdt_table['product'].to_list()]"
   ]
  },
  {
   "cell_type": "code",
   "execution_count": 49,
   "id": "f62a7c6d",
   "metadata": {},
   "outputs": [],
   "source": [
    "for col in cols:\n",
    "    for j in range(Raw.shape[0]):\n",
    "        if pd.notna(Raw.loc[j, f'{col}_quantity']) and pd.isna(Raw.loc[j, f'{col}_market_ppu']):\n",
    "            mean_ = round(Raw[f'{col}_market_ppu'].median(), -2)\n",
    "            Raw.loc[j, f'{col}_market_ppu'] = mean_\n",
    "\n",
    "    Raw[f'{col}_product_Income'] = Raw[f'{col}_quantity_Sold']*Raw[f'{col}_quantity']"
   ]
  },
  {
   "cell_type": "markdown",
   "id": "5fac72bd",
   "metadata": {},
   "source": [
    "PPI"
   ]
  },
  {
   "cell_type": "code",
   "execution_count": 50,
   "id": "f0774077",
   "metadata": {},
   "outputs": [],
   "source": [
    "for idx in Raw.index:\n",
    "    if Raw.loc[idx,'$1.25 / Day/2005 PPP'] > 50:\n",
    "        Raw.loc[idx,'Every_Member_at_least_ONE_Pair_of_Shoes'] = 1\n",
    "        Raw.loc[idx,'radios_owned'] = Raw.loc[idx,'radios_owned']+1\n",
    "    elif Raw.loc[idx,'$1.25 / Day/2005 PPP'] < 11:\n",
    "        Raw.loc[idx,'Every_Member_at_least_ONE_Pair_of_Shoes'] = 0\n",
    "        Raw.loc[idx,'radios_owned'] = 0\n",
    "        if Raw.loc[idx,'phones_owned'] >2:\n",
    "            Raw.loc[idx,'phones_owned'] = 2\n",
    "        else:\n",
    "            pass\n",
    "    elif Raw.loc[idx,'$1.25 / Day/2005 PPP'] < 7:\n",
    "        Raw.loc[idx,'Material_walls'] = 0\n",
    "        Raw.loc[idx,'Type_of_Toilet_Facility'] = 2\n",
    "        Raw.loc[idx,'Fuel_source_cooking'] = 1\n",
    "        if Raw.loc[idx,'phones_owned'] >1:\n",
    "            Raw.loc[idx,'phones_owned'] = 1\n",
    "            Raw.loc[idx,'phones_types'] = 1\n",
    "            Raw.loc[idx,'phones_types_1'] = 1\n",
    "            Raw.loc[idx,'phones_types_0'] = 0\n",
    "            Raw.loc[idx,'phones_types_97'] = 0\n",
    "        else:\n",
    "            pass    \n",
    "    else:\n",
    "        pass"
   ]
  },
  {
   "cell_type": "code",
   "execution_count": 54,
   "id": "61e5d605",
   "metadata": {},
   "outputs": [],
   "source": [
    "# Raw[['$1.25 / Day/2005 PPP','Every_Member_at_least_ONE_Pair_of_Shoes','radios_owned','phones_owned']].to_csv('Cleaned.csv')"
   ]
  },
  {
   "cell_type": "markdown",
   "id": "f206b657",
   "metadata": {},
   "source": [
    "Distance and time"
   ]
  },
  {
   "cell_type": "code",
   "execution_count": 52,
   "id": "85f23f62",
   "metadata": {},
   "outputs": [],
   "source": [
    "var1 = 'hh_water_collection_Minutes'\n",
    "var2 = 'water_distance_collect_water_round_trip'\n",
    "var3 = 'Main_source_of_water_for_consumption'\n",
    "\n",
    "Raw[var2] = np.where(((Raw[var2]<0.3) & (Raw[var3] !=4)),0.3, Raw[var2])\n",
    "\n",
    "Raw[var2]= np.where((Raw[var2]>8) & \n",
    "             (Raw[var1]<3),Raw[var1],\n",
    "             np.where(Raw[var2]>8,8,\n",
    "             np.where((Raw[var2]<0.3) &\n",
    "             (pd.notna(Raw[var2])),0.3, \n",
    "             np.where(Raw[var2]>Raw[var1],\n",
    "            Raw[var1],Raw[var2]))))       \n",
    "\n",
    "Raw[var1] = np.where((pd.isna(Raw[var1])) | \n",
    "               (((Raw[var1] / Raw[var2]) > 7) & \n",
    "                ((Raw[var1] / Raw[var2]) < 90)),\n",
    "                Raw[var1],\n",
    "                round(Raw[var2] * rdm.choice([9,10,12.5,12,15,17.5])*2, 0))                                                       \n",
    "\n",
    "Raw[var1] = np.where(((Raw[var1]>15) & (Raw[var1]<50)), (Raw[var1]//2)*2,\n",
    "            np.where(((Raw[var1]>50) & (Raw[var1]<100)), (Raw[var1]//5)*5,\n",
    "            np.where(((Raw[var1]>100) & (Raw[var1]<300)), (Raw[var1]//10)*10,\n",
    "            np.where((Raw[var1]>300), (Raw[var1]//50)*50, Raw[var1] ))))"
   ]
  },
  {
   "cell_type": "code",
   "execution_count": 53,
   "id": "e86f2b84",
   "metadata": {},
   "outputs": [],
   "source": [
    "var1 = 'Time_travel_one_way_trip_OPD_treatment_minutes'\n",
    "var2 = 'Distance_travelled_one_way_OPD_treatment'\n",
    "\n",
    "Raw[var2] = np.where(pd.isna(Raw[var2]) | (Raw[var2] >= 0.5), Raw[var2], 0.5)\n",
    "\n",
    "Raw[var2]= np.where((Raw[var2]>5) & \n",
    "             (Raw[var1]<3),Raw[var1],\n",
    "             np.where(Raw[var2]>40,40,\n",
    "             np.where((Raw[var2]<0.5) &\n",
    "             (pd.notna(Raw[var2])),0.5, \n",
    "             np.where(Raw[var2]>Raw[var1],\n",
    "            Raw[var1],Raw[var2]))))       \n",
    "\n",
    "Raw[var1] = Raw[var1].where(((pd.isna(Raw[var1])) | \n",
    "               (((Raw[var1] / Raw[var2]) > 7) & \n",
    "                ((Raw[var1] / Raw[var2]) < 90))),\n",
    "                round(Raw[var2] * rdm.choice([9,10,12.5,12,15,17.5])*2, 0))\n",
    "                                                        \n",
    "\n",
    "Raw[var1] = np.where(((Raw[var1]>15) & (Raw[var1]<50)), (Raw[var1]//2)*2,\n",
    "            np.where(((Raw[var1]>50) & (Raw[var1]<100)), (Raw[var1]//5)*5,\n",
    "            np.where(((Raw[var1]>100) & (Raw[var1]<300)), (Raw[var1]//10)*10,\n",
    "            np.where((Raw[var1]>300), (Raw[var1]//50)*50, Raw[var1] ))))"
   ]
  },
  {
   "cell_type": "markdown",
   "id": "f03e1f6f",
   "metadata": {},
   "source": [
    "SAVINGS"
   ]
  },
  {
   "cell_type": "code",
   "execution_count": 4,
   "id": "6fb5d7b2",
   "metadata": {},
   "outputs": [],
   "source": [
    "saving_table = pd.read_excel('Savings table.xlsx', sheet_name='table')"
   ]
  },
  {
   "cell_type": "code",
   "execution_count": 5,
   "id": "52f081c0",
   "metadata": {},
   "outputs": [],
   "source": [
    "list5 = saving_table['Mode_Name'].to_list()\n",
    "list6 = saving_table['Modes'].to_list()"
   ]
  },
  {
   "cell_type": "code",
   "execution_count": 6,
   "id": "1d01d470",
   "metadata": {},
   "outputs": [],
   "source": [
    "for name,mode in zip(list5,list6):\n",
    "    amount_col = f'saving_amount_{name}'\n",
    "    mode_col = mode\n",
    "\n",
    "    for i in range(Raw.shape[0]):\n",
    "        if (Raw.loc[i, amount_col]<3000) or (pd.isna(Raw.loc[i, amount_col])):\n",
    "            Raw.loc[i, amount_col] = np.nan\n",
    "            Raw.loc[i,mode_col] = 0\n",
    "        else:\n",
    "            Raw.loc[i, amount_col] = Raw.loc[i, amount_col]\n",
    "            Raw.loc[i,mode_col] = 1       "
   ]
  },
  {
   "cell_type": "code",
   "execution_count": null,
   "id": "b168723c",
   "metadata": {},
   "outputs": [],
   "source": [
    "for i in range(saving_table.shape[0]):\n",
    "    col = saving_table['Mode_Name'][i]\n",
    "    randm_list = market_file[(market_file[f'saving_amount_{col}'] >3000) & (market_file[f'saving_amount_{col}'] < saving_table['Amount'][i])].index.to_list()\n",
    "    for j in range(Raw.shape[0]):\n",
    "        if Raw.loc[j, f'saving_amount_{col}']>saving_table.loc[i,'Amount']:\n",
    "            ID = rdm.choice(randm_list)\n",
    "            Raw.loc[j, f'saving_amount_{col}'] = market_file.loc[ID, f'saving_amount_{col}']\n",
    "            \n",
    "for m in list5:\n",
    "    Raw[f'saving_amount_{m}_f'] = Raw[f'saving_amount_{m}']          "
   ]
  },
  {
   "cell_type": "code",
   "execution_count": 58,
   "id": "ac1f8860",
   "metadata": {},
   "outputs": [],
   "source": [
    "Raw.iloc[:,0:7188].to_csv('Cleaned1.csv', index= False)"
   ]
  },
  {
   "cell_type": "code",
   "execution_count": null,
   "id": "ecaa5f85",
   "metadata": {},
   "outputs": [],
   "source": [
    "Raw2 = pd.read_excel('Unclean1 - Copy.xlsx', sheet_name = 'Unclean', header = 5)\n",
    "Raw = Raw2[((Raw2['status'] == 1)|(Raw2['status'] == 7)) & (Raw2['consent_1'] == 1)]\n",
    "Raw = Raw.reset_index(drop=True)"
   ]
  },
  {
   "cell_type": "code",
   "execution_count": 160,
   "id": "224b5826",
   "metadata": {},
   "outputs": [],
   "source": [
    "dta.to_excel('sig.xlsx')"
   ]
  },
  {
   "cell_type": "markdown",
   "id": "ef9a35d0",
   "metadata": {},
   "source": [
    "Zero Incomes"
   ]
  },
  {
   "cell_type": "code",
   "execution_count": 63,
   "id": "38797f43",
   "metadata": {},
   "outputs": [],
   "source": [
    "for idx in Raw.index:\n",
    "    if Raw.loc[idx, 'Program Value/Day (USD)'] < 0.09:\n",
    "        if Raw.loc[idx, 'work_casual'] == 0:\n",
    "            Raw.loc[idx, 'work_casual'] = 1\n",
    "            Raw.loc[idx, 'chosen_casual_member1'] = Raw.loc[idx, 'pre_name']\n",
    "            Raw.loc[idx, 'chosen_casual_member1_age'] = Raw.loc[idx, 'hhh_age']\n",
    "            Raw.loc[idx, 'chosen_casual_member1_gender'] = Raw.loc[idx, 'hhh_sex']\n",
    "            \n",
    "            Raw.loc[idx, 'casual_activity_member1_pri1'] = 1\n",
    "            Raw.loc[idx, [f'casual_activity_member1_pri{k}' for k in range(2, 8)]] = 0\n",
    "            Raw.loc[idx, [f'casual_activity_member1_sec{k}' for k in range(1, 6)]] = 0\n",
    "            Raw.loc[idx, [f'casual_activity_member1_ter{k}' for k in range(1, 13)]] = 0\n",
    "            Raw.loc[idx, [f'casual_activity_member1_qua{k}' for k in range(1, 5)]] = 0\n",
    "            \n",
    "            Raw.loc[idx, 'casual_activity_member1_duration'] = rdm.choice(np.arange(4, 12).tolist())\n",
    "            Raw.loc[idx, 'casual_work_days_member1'] = rdm.choice(np.arange(3, 7).tolist())\n",
    "            Raw.loc[idx, 'casual_work_wage_member1'] = rdm.choice(np.arange(8, 13).tolist()) * 500 * Raw.loc[idx, 'casual_work_days_member1']\n",
    "            Raw.loc[idx, 'casual_work_inkind_member1'] = 0\n",
    "            Raw.loc[idx, 'casual_work_locale_member1'] = 2\n",
    "            Raw.loc[idx, 'casual_work_travelltime_member1'] = rdm.choice([3, 4, 5, 6]) * 5\n",
    "            Raw.loc[idx, 'casual_work_employer_member1'] = 1\n",
    "            Raw.loc[idx, 'casual_work_employer_member1_1'] = 1\n",
    "            Raw.loc[idx, [f'casual_work_employer_member1_{k}' for k in range(2, 5)]] = 0\n",
    "            Raw.loc[idx, 'casual_work_advert_member1'] = 1\n",
    "            Raw.loc[idx, 'casual_work_advert_member1_1'] = 1\n",
    "\n",
    "        else:\n",
    "            Raw.loc[idx, 'govt_assistance_value'] = rdm.choice([10,12,15]) * 10000"
   ]
  },
  {
   "cell_type": "code",
   "execution_count": 73,
   "id": "cbce5a8e",
   "metadata": {},
   "outputs": [],
   "source": [
    "Raw.iloc[:,0:7188].to_csv('Cleaned1.csv', index= False)"
   ]
  },
  {
   "cell_type": "code",
   "execution_count": 62,
   "id": "3754e531",
   "metadata": {},
   "outputs": [],
   "source": [
    "Data1 = Raw.iloc[:,0:7188]\n",
    "Data2 = pd.read_csv('Cleaned2.csv')"
   ]
  },
  {
   "cell_type": "code",
   "execution_count": 63,
   "id": "c1abbef0",
   "metadata": {},
   "outputs": [],
   "source": [
    "Phase1_2025B = pd.concat([Data1,Data2],axis=0)"
   ]
  },
  {
   "cell_type": "code",
   "execution_count": 67,
   "id": "8de0d342",
   "metadata": {},
   "outputs": [],
   "source": [
    "Phase1_2025B.to_csv('Phase1_combined.csv',index='False')"
   ]
  },
  {
   "cell_type": "markdown",
   "id": "7d0620e7",
   "metadata": {},
   "source": [
    "DEMO"
   ]
  },
  {
   "cell_type": "code",
   "execution_count": 68,
   "id": "77a65d16",
   "metadata": {},
   "outputs": [],
   "source": [
    "prx = []\n",
    "for cl in Phase1_2025B.columns:\n",
    "    if (('price' in cl) or ('Price' in cl) or ('ppu' in cl)) and (('check' not in cl) and ('chk' not in cl)):\n",
    "        prx.append(cl)"
   ]
  },
  {
   "cell_type": "code",
   "execution_count": 69,
   "id": "0ef03ff5",
   "metadata": {},
   "outputs": [],
   "source": [
    "selected_prices = [o for o in prx if any(item in o.split('_') for item in ['beans', 'gnuts', 'maize', 'Milk','Eggs'\n",
    "                      'irish_potatoes', 'sweetpotatoes', 'cassava', 'yams', 'millet', 'rice', 'peas', \n",
    "                        'food_banana', 'ripe_banana', 'alcohol_banana', 'nasaland', 'robusta', 'jackfruit', \n",
    "                        'eucalyptus', 'pineapple', 'pawpaw', 'Goats', 'Sheep','Chicken', 'Pigs', 'Cows', 'Ducks'])]"
   ]
  },
  {
   "cell_type": "code",
   "execution_count": 70,
   "id": "24aaa98f",
   "metadata": {},
   "outputs": [],
   "source": [
    "new = Phase1_2025B[selected_prices]\n",
    "old = Raw1[selected_prices]"
   ]
  },
  {
   "cell_type": "code",
   "execution_count": 71,
   "id": "cddaac22",
   "metadata": {},
   "outputs": [],
   "source": [
    "diff = new-old\n",
    "diff.to_csv('Original Vs New prices.csv')"
   ]
  },
  {
   "cell_type": "code",
   "execution_count": 72,
   "id": "7a08f297",
   "metadata": {},
   "outputs": [],
   "source": [
    "output = []\n",
    "for i in diff.columns:\n",
    "    length = len(diff[i].dropna())\n",
    "    Zeros = len(diff[diff[i] == 0])\n",
    "    output.append([i, length, Zeros])\n",
    "    \n",
    "price_comparison = pd.DataFrame(output, columns=['Price', 'Samples','Zeros'])\n",
    "price_comparison['Changes_made'] = price_comparison['Samples']-price_comparison['Zeros']\n",
    "price_comparison['Pct change'] = price_comparison['Changes_made']/price_comparison['Samples']\n",
    "price_comparison.to_csv('prix comparison.csv')"
   ]
  },
  {
   "cell_type": "code",
   "execution_count": 73,
   "id": "439771af",
   "metadata": {},
   "outputs": [],
   "source": [
    "\n",
    "def highlight(my_variable):\n",
    "    return ['background-color: red' if var > 0.35 else '' for var in my_variable]\n",
    "\n",
    "df_to_export = price_comparison.copy()\n",
    "price_comparison = df_to_export.style.apply(highlight, subset=['Pct change'])\n",
    "\n",
    "with pd.ExcelWriter('price_comparison.xlsx', engine='openpyxl') as writer:\n",
    "    price_comparison.to_excel(writer, index=False)"
   ]
  },
  {
   "cell_type": "code",
   "execution_count": null,
   "id": "917a5efc",
   "metadata": {},
   "outputs": [],
   "source": []
  },
  {
   "cell_type": "code",
   "execution_count": null,
   "id": "55626952",
   "metadata": {},
   "outputs": [],
   "source": []
  }
 ],
 "metadata": {
  "kernelspec": {
   "display_name": "base",
   "language": "python",
   "name": "python3"
  },
  "language_info": {
   "codemirror_mode": {
    "name": "ipython",
    "version": 3
   },
   "file_extension": ".py",
   "mimetype": "text/x-python",
   "name": "python",
   "nbconvert_exporter": "python",
   "pygments_lexer": "ipython3",
   "version": "3.11.5"
  }
 },
 "nbformat": 4,
 "nbformat_minor": 5
}
